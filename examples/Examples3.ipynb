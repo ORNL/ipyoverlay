{
 "cells": [
  {
   "cell_type": "markdown",
   "id": "ac32154a-c4f0-4df0-be0c-ee0deee9f27c",
   "metadata": {},
   "source": [
    "# Matplotlib Barchart"
   ]
  },
  {
   "cell_type": "code",
   "execution_count": null,
   "id": "6927c2f1-06ed-4bb3-9020-e23420b16007",
   "metadata": {},
   "outputs": [],
   "source": [
    "%cd .."
   ]
  },
  {
   "cell_type": "code",
   "execution_count": null,
   "id": "c051e8ee-eb74-4012-9dd9-7327ff69a00e",
   "metadata": {},
   "outputs": [],
   "source": [
    "import ipyoverlay as ui\n",
    "import matplotlib.pyplot as plt\n",
    "import matplotlib as mpl\n",
    "import ipywidgets as ipw\n",
    "import numpy as np\n",
    "from ipyoverlay.container import OverlayContainer\n",
    "from ipyoverlay.utils import convert_mpl_data_to_pixel\n",
    "from ipyoverlay.mpl.event import on_mpl_point_click"
   ]
  },
  {
   "cell_type": "code",
   "execution_count": null,
   "id": "31c288a6-ce5d-483b-90bf-72131f0d04f6",
   "metadata": {},
   "outputs": [],
   "source": [
    "%matplotlib widget"
   ]
  },
  {
   "cell_type": "code",
   "execution_count": null,
   "id": "ba0352d6-90ed-4339-bb17-9e5db649b130",
   "metadata": {},
   "outputs": [],
   "source": [
    "from sklearn.datasets import load_iris\n",
    "data = load_iris(as_frame=True)[\"frame\"].sample(frac=0.7) # randomly get different amounts of each target type"
   ]
  },
  {
   "cell_type": "code",
   "execution_count": null,
   "id": "1782bd31-d06c-45ed-8ad4-68a55931823f",
   "metadata": {},
   "outputs": [],
   "source": [
    "target_groups = data.groupby(\"target\")\n",
    "x = [group for group, df in target_groups]\n",
    "height = [len(df) for group, df in target_groups]"
   ]
  },
  {
   "cell_type": "code",
   "execution_count": null,
   "id": "fc5787af-554b-471d-be07-43d4202e5d8a",
   "metadata": {},
   "outputs": [],
   "source": [
    "with plt.ioff():\n",
    "    fig, ax = plt.subplots(figsize=(10, 8))\n",
    "    things = ax.bar(x, height, color=mpl.cm.tab10(x), picker=5)\n",
    "    fig.tight_layout()"
   ]
  },
  {
   "cell_type": "code",
   "execution_count": null,
   "id": "95c1dc96-71c6-4d3f-8786-cfdc088e10ca",
   "metadata": {},
   "outputs": [],
   "source": [
    "container = OverlayContainer(height=\"1000\", width=\"auto\")\n",
    "output = ipw.Output()\n",
    "container.widget = ipw.VBox([fig.canvas, output])"
   ]
  },
  {
   "cell_type": "code",
   "execution_count": null,
   "id": "b4b64b02-920a-4e54-9878-ea308fe3db55",
   "metadata": {},
   "outputs": [],
   "source": [
    "container"
   ]
  },
  {
   "cell_type": "code",
   "execution_count": null,
   "id": "12227071-2f79-4f84-b7bb-5fb484f05864",
   "metadata": {},
   "outputs": [],
   "source": [
    "ax.patches[0].get_verts()"
   ]
  },
  {
   "cell_type": "code",
   "execution_count": null,
   "id": "c46c2e81-4141-4fb3-b763-a4902829ab63",
   "metadata": {},
   "outputs": [],
   "source": [
    "ax.patches[0].get_path()"
   ]
  },
  {
   "cell_type": "code",
   "execution_count": null,
   "id": "ff101737-cd34-47a0-b146-9bd1184131fe",
   "metadata": {},
   "outputs": [],
   "source": [
    "def on_pick(event):\n",
    "    with output:\n",
    "        print(things.index(event.artist))\n",
    "        # print(event)\n",
    "        # print(dir(event))\n",
    "        # print(event.artist)\n",
    "        # print(dir(event.artist))\n",
    "\n",
    "fig.canvas.mpl_connect(\"pick_event\", on_pick)"
   ]
  },
  {
   "cell_type": "code",
   "execution_count": null,
   "id": "9dc8627d-93a6-42be-b089-70bd069ce2c4",
   "metadata": {},
   "outputs": [],
   "source": []
  },
  {
   "cell_type": "code",
   "execution_count": null,
   "id": "31f3689d-bd6b-4a91-bdba-b33a3f8cca85",
   "metadata": {},
   "outputs": [],
   "source": [
    "things"
   ]
  },
  {
   "cell_type": "code",
   "execution_count": null,
   "id": "388181c4-3abc-42da-a997-751d397bac25",
   "metadata": {},
   "outputs": [],
   "source": [
    "things.ind"
   ]
  }
 ],
 "metadata": {
  "kernelspec": {
   "display_name": "Python 3 (ipykernel)",
   "language": "python",
   "name": "python3"
  },
  "language_info": {
   "codemirror_mode": {
    "name": "ipython",
    "version": 3
   },
   "file_extension": ".py",
   "mimetype": "text/x-python",
   "name": "python",
   "nbconvert_exporter": "python",
   "pygments_lexer": "ipython3",
   "version": "3.12.2"
  }
 },
 "nbformat": 4,
 "nbformat_minor": 5
}
