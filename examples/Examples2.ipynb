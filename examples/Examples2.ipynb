{
 "cells": [
  {
   "cell_type": "markdown",
   "id": "ef195c36-c954-4f04-b3ae-c36dd8da19f1",
   "metadata": {},
   "source": [
    "# Plotly Scattermapbox"
   ]
  },
  {
   "cell_type": "code",
   "execution_count": null,
   "id": "813bbdda-781b-4d18-85a1-942fbef8476e",
   "metadata": {},
   "outputs": [],
   "source": [
    "%cd .."
   ]
  },
  {
   "cell_type": "code",
   "execution_count": null,
   "id": "67690ea7-1295-40a9-b2ec-18495093fd64",
   "metadata": {},
   "outputs": [],
   "source": [
    "import plotly.graph_objects as go\n",
    "from ipyoverlay.container import OverlayContainer\n",
    "import ipyoverlay as ui\n",
    "import ipywidgets as ipw"
   ]
  },
  {
   "cell_type": "code",
   "execution_count": null,
   "id": "49d9ed47-5ce6-474a-b3c7-63d56a672624",
   "metadata": {},
   "outputs": [],
   "source": [
    "scattermap_trace = go.Scattermapbox(\n",
    "    lat=[35.964668],\n",
    "    lon=[-83.926453],\n",
    "    marker=go.scattermapbox.Marker(color=\"red\", size=20),\n",
    "    mode=\"markers\",\n",
    ")\n",
    "scattermap_fig = go.FigureWidget([scattermap_trace], layout=dict(\n",
    "    mapbox_style=\"carto-positron\",\n",
    "    mapbox=dict(zoom=4, center=dict(lat=38, lon=-94)),\n",
    "    margin=dict(b=0, t=0, l=0, r=0),\n",
    "    height=800,\n",
    "    width=850\n",
    "))"
   ]
  },
  {
   "cell_type": "code",
   "execution_count": null,
   "id": "61b18a16-88d9-4f3e-80ba-a7625d799047",
   "metadata": {},
   "outputs": [],
   "source": [
    "container = OverlayContainer(scattermap_fig, height=800, width=\"auto\")\n",
    "\n",
    "def show_home(*args, **kwargs):\n",
    "    little_msg = ui.DecoratedWidgetWrapper(ipw.Label(value=\"This is my home!\"))\n",
    "    container.add_child(little_msg, 100, 100)\n",
    "    container.connect_child_to_plotly(little_msg, scattermap_fig, -83.926453, 35.964668)\n",
    "\n",
    "wrapped_scattermap = ui.ContextMenuArea(scattermap_fig, ui.ContextMenu({\"showhome\": (\"Show home\", show_home)}))\n",
    "container.widget = wrapped_scattermap"
   ]
  },
  {
   "cell_type": "code",
   "execution_count": null,
   "id": "0c374705-4775-42f9-a33d-9503f9699b5b",
   "metadata": {},
   "outputs": [],
   "source": [
    "container"
   ]
  },
  {
   "cell_type": "code",
   "execution_count": null,
   "id": "dabc6d28-1359-4769-82dd-4bb7a324c1f2",
   "metadata": {},
   "outputs": [],
   "source": []
  }
 ],
 "metadata": {
  "kernelspec": {
   "display_name": "Python 3 (ipykernel)",
   "language": "python",
   "name": "python3"
  },
  "language_info": {
   "codemirror_mode": {
    "name": "ipython",
    "version": 3
   },
   "file_extension": ".py",
   "mimetype": "text/x-python",
   "name": "python",
   "nbconvert_exporter": "python",
   "pygments_lexer": "ipython3",
   "version": "3.12.2"
  }
 },
 "nbformat": 4,
 "nbformat_minor": 5
}
