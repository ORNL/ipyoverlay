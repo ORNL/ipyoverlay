{
 "cells": [
  {
   "cell_type": "code",
   "execution_count": null,
   "id": "d62bf236-a563-40f3-880e-e3af4cbc608d",
   "metadata": {},
   "outputs": [],
   "source": [
    "%cd .."
   ]
  },
  {
   "cell_type": "code",
   "execution_count": null,
   "id": "4bc2102e-6551-4421-afdb-a125a0ee0d84",
   "metadata": {},
   "outputs": [],
   "source": [
    "%matplotlib widget"
   ]
  },
  {
   "cell_type": "code",
   "execution_count": null,
   "id": "abdb4e1f-a1aa-4a41-b970-504a933842c8",
   "metadata": {},
   "outputs": [],
   "source": [
    "import ipyoverlay as ui\n",
    "import numpy as np\n",
    "import matplotlib.pyplot as plt"
   ]
  },
  {
   "cell_type": "code",
   "execution_count": null,
   "id": "6c096097-43a6-4b0d-a343-7941c225ba5a",
   "metadata": {},
   "outputs": [],
   "source": [
    "data = np.random.rand(100, 5) # 0 and 1 are x and y data to plot and the \n",
    "# remaining three dimensions are some other data fields that we'd want to see in a bar chart\n"
   ]
  },
  {
   "cell_type": "code",
   "execution_count": null,
   "id": "6651943b-cbf9-485a-8377-248ea49e6c46",
   "metadata": {},
   "outputs": [],
   "source": [
    "fig, ax = plt.subplots()\n",
    "ax.scatter(x=data[:,0], y=data[:,1])\n",
    "\n",
    "container = ui.OverlayContainer(fig.canvas, height=\"auto\", width=\"auto\")"
   ]
  },
  {
   "cell_type": "code",
   "execution_count": null,
   "id": "69113434-fda2-41f1-ad26-08e033841c9f",
   "metadata": {},
   "outputs": [],
   "source": [
    "import ipywidgets as ipw\n",
    "out = ipw.Output()\n",
    "out"
   ]
  },
  {
   "cell_type": "code",
   "execution_count": null,
   "id": "d94c0752-207d-47ba-81a1-1875ffe0cdc7",
   "metadata": {},
   "outputs": [],
   "source": [
    "def on_point_click(point_index, event):\n",
    "    with out:\n",
    "        data_point = data[point_index]\n",
    "        category_bar_data = data_point[2:]\n",
    "        inset_fig, inset_ax = plt.subplots(figsize=(2,2))\n",
    "        inset_ax.bar(x=[0,1,2], height=category_bar_data)\n",
    "        inset_window = ui.DecoratedWidgetWrapper(ui.display_output(inset_fig), title=str(point_index))\n",
    "        container.add_child_at_mpl_point(inset_window, ax, data_point[0], data_point[1])\n",
    "    \n",
    "handler = ui.mpl.event.on_mpl_point_click(ax, on_point_click, data[:,0], data[:,1], tolerance=.1)"
   ]
  },
  {
   "cell_type": "code",
   "execution_count": null,
   "id": "a010b248-cd98-4554-979c-240a33f2a27a",
   "metadata": {},
   "outputs": [],
   "source": [
    "container"
   ]
  },
  {
   "cell_type": "code",
   "execution_count": null,
   "id": "f657e74d-b409-4968-b67f-94ab40114e51",
   "metadata": {},
   "outputs": [],
   "source": []
  }
 ],
 "metadata": {
  "kernelspec": {
   "display_name": "Python 3 (ipykernel)",
   "language": "python",
   "name": "python3"
  },
  "language_info": {
   "codemirror_mode": {
    "name": "ipython",
    "version": 3
   },
   "file_extension": ".py",
   "mimetype": "text/x-python",
   "name": "python",
   "nbconvert_exporter": "python",
   "pygments_lexer": "ipython3",
   "version": "3.12.2"
  }
 },
 "nbformat": 4,
 "nbformat_minor": 5
}
