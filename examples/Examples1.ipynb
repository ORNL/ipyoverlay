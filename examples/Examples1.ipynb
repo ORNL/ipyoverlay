{
 "cells": [
  {
   "cell_type": "markdown",
   "id": "aeead97d-b0e4-47da-9fa2-8ca76fbc0c91",
   "metadata": {},
   "source": [
    "# Matplotlib Scatterplot"
   ]
  },
  {
   "cell_type": "code",
   "execution_count": null,
   "id": "3bc19314-868d-4cb9-9b4f-7f79928c263a",
   "metadata": {},
   "outputs": [],
   "source": [
    "%cd .."
   ]
  },
  {
   "cell_type": "code",
   "execution_count": null,
   "id": "df69a6ba-9640-4e01-9a98-df88bd425ba0",
   "metadata": {},
   "outputs": [],
   "source": [
    "import ipyoverlay as ui\n",
    "import matplotlib.pyplot as plt\n",
    "import ipywidgets as ipw\n",
    "import numpy as np\n",
    "from ipyoverlay.container import OverlayContainer\n",
    "from ipyoverlay.utils import convert_mpl_data_to_pixel\n",
    "from ipyoverlay.mpl.event import on_mpl_point_click"
   ]
  },
  {
   "cell_type": "code",
   "execution_count": null,
   "id": "806dbe7f-c2c3-4f9c-b46c-2555196828f3",
   "metadata": {},
   "outputs": [],
   "source": [
    "%matplotlib widget"
   ]
  },
  {
   "cell_type": "markdown",
   "id": "00832147-45c0-4c8e-b769-64acfe546cc2",
   "metadata": {},
   "source": [
    "(need ipympl, scikit-learn, and pandas installed)"
   ]
  },
  {
   "cell_type": "code",
   "execution_count": null,
   "id": "eea098ee-3096-473e-aa39-a6630de1a456",
   "metadata": {},
   "outputs": [],
   "source": [
    "from sklearn.datasets import load_iris\n",
    "data = load_iris(as_frame=True)[\"frame\"]"
   ]
  },
  {
   "cell_type": "code",
   "execution_count": null,
   "id": "633ccec0-dac8-4813-96e0-d8c7877442f6",
   "metadata": {},
   "outputs": [],
   "source": [
    "data_x = data[\"sepal length (cm)\"]\n",
    "data_y = data[\"sepal width (cm)\"]\n",
    "\n",
    "with plt.ioff():\n",
    "    fig, ax = plt.subplots(figsize=(10, 8))\n",
    "    ax.scatter(data_x, data_y, c=data.target)\n",
    "    fig.tight_layout()\n",
    "container = OverlayContainer(height=\"1000\", width=\"auto\")\n",
    "output = ipw.Output()\n",
    "container.widget = ipw.HBox([ipw.VBox([ipw.HTML(\"<h1>Click on points</h1>\"), fig.canvas]), output])"
   ]
  },
  {
   "cell_type": "code",
   "execution_count": null,
   "id": "7a0e92ac-6d9d-4760-8abf-0bf171407617",
   "metadata": {},
   "outputs": [],
   "source": [
    "def on_point_click(point_index, event):\n",
    "    with output:\n",
    "        print(\"hello?\")\n",
    "        row = data.iloc[point_index]\n",
    "        x = row[\"sepal length (cm)\"]\n",
    "        y = row[\"sepal width (cm)\"]\n",
    "        popup = ui.DecoratedWidgetWrapper(ipw.HTML(str(row)), width=200)\n",
    "        pos_x, pos_y = container.get_relative_layout_position(x, y, data_x.values, data_y.values, .5)\n",
    "        print(pos_x, pos_y)\n",
    "        pos_x, pos_y = convert_mpl_data_to_pixel(ax, pos_x, pos_y, truncate=False)\n",
    "        print(pos_x, pos_y)\n",
    "        container.add_child(popup, pos_x, pos_y)\n",
    "        container.connect_child_to_mpl(popup, ax, data_x=x, data_y=y)\n",
    "\n",
    "handler = on_mpl_point_click(ax, on_point_click, data_x, data_y, tolerance=.1)\n",
    "handler._debug = output\n",
    "\n",
    "with output:\n",
    "    print(\"Hello!\")"
   ]
  },
  {
   "cell_type": "code",
   "execution_count": null,
   "id": "8f88f4ab-d1cc-4f73-918b-f4eb53735d8e",
   "metadata": {},
   "outputs": [],
   "source": [
    "container"
   ]
  },
  {
   "cell_type": "code",
   "execution_count": null,
   "id": "62851e0b-5abe-46ea-8cc9-35a938aa95ed",
   "metadata": {},
   "outputs": [],
   "source": []
  }
 ],
 "metadata": {
  "kernelspec": {
   "display_name": "Python 3 (ipykernel)",
   "language": "python",
   "name": "python3"
  },
  "language_info": {
   "codemirror_mode": {
    "name": "ipython",
    "version": 3
   },
   "file_extension": ".py",
   "mimetype": "text/x-python",
   "name": "python",
   "nbconvert_exporter": "python",
   "pygments_lexer": "ipython3",
   "version": "3.12.2"
  }
 },
 "nbformat": 4,
 "nbformat_minor": 5
}
