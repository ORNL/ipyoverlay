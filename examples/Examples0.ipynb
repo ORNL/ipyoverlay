{
 "cells": [
  {
   "cell_type": "code",
   "execution_count": 2,
   "id": "81e9069c-1a4c-43dd-a059-8f713a39711c",
   "metadata": {},
   "outputs": [
    {
     "name": "stdout",
     "output_type": "stream",
     "text": [
      "/home/81n/lab/ipyoverlay_PUBLIC\n"
     ]
    }
   ],
   "source": [
    "%cd .."
   ]
  },
  {
   "cell_type": "code",
   "execution_count": 3,
   "id": "498c18a3-a373-49e2-a39c-d8128f3252f5",
   "metadata": {},
   "outputs": [],
   "source": [
    "import ipyoverlay as ui\n",
    "import ipywidgets as ipw"
   ]
  },
  {
   "cell_type": "code",
   "execution_count": 4,
   "id": "7303bbc7-c3da-45af-baa9-ede9c2793474",
   "metadata": {},
   "outputs": [],
   "source": [
    "container = ui.container.OverlayContainer()\n",
    "container.widget = ipw.Label(\"This is a background widget\")"
   ]
  },
  {
   "cell_type": "code",
   "execution_count": 5,
   "id": "bbb60276-2a71-4603-a007-b5ea29e84f8f",
   "metadata": {},
   "outputs": [
    {
     "data": {
      "application/vnd.jupyter.widget-view+json": {
       "model_id": "7ce975ba143f4808a70a2a468d3fb6d1",
       "version_major": 2,
       "version_minor": 0
      },
      "text/plain": [
       "OverlayContainer(container_id='433d35d2-fca8-46a3-a69c-d3d2988d52ef', events=['handle_child_mouse_down', 'hand…"
      ]
     },
     "execution_count": 5,
     "metadata": {},
     "output_type": "execute_result"
    }
   ],
   "source": [
    "container"
   ]
  },
  {
   "cell_type": "code",
   "execution_count": 6,
   "id": "789c6dc9-7378-4c04-a8a9-2d21f27729a4",
   "metadata": {},
   "outputs": [
    {
     "data": {
      "application/vnd.jupyter.widget-view+json": {
       "model_id": "d62b33f30c924c2cbe9040b1c0fafee5",
       "version_major": 2,
       "version_minor": 0
      },
      "text/plain": [
       "Connection(connection_id='7a37c7f2-1d92-44bb-b28f-def379412337', container_id='433d35d2-fca8-46a3-a69c-d3d2988…"
      ]
     },
     "execution_count": 6,
     "metadata": {},
     "output_type": "execute_result"
    }
   ],
   "source": [
    "overlay = ui.widgets.DecoratedWidgetWrapper()\n",
    "overlay.widget = ipw.Label(\"Foreground\")\n",
    "container.add_child(overlay, left=40, top=100)\n",
    "container.connect_child_to_pixel(overlay, (20, 20))"
   ]
  },
  {
   "cell_type": "code",
   "execution_count": null,
   "id": "4aba61b3-7628-4e56-8bca-3be044ca6c56",
   "metadata": {},
   "outputs": [],
   "source": []
  }
 ],
 "metadata": {
  "kernelspec": {
   "display_name": "Python 3 (ipykernel)",
   "language": "python",
   "name": "python3"
  },
  "language_info": {
   "codemirror_mode": {
    "name": "ipython",
    "version": 3
   },
   "file_extension": ".py",
   "mimetype": "text/x-python",
   "name": "python",
   "nbconvert_exporter": "python",
   "pygments_lexer": "ipython3",
   "version": "3.12.2"
  }
 },
 "nbformat": 4,
 "nbformat_minor": 5
}
